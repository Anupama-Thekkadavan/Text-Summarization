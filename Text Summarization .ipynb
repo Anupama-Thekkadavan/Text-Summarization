{
 "cells": [
  {
   "cell_type": "markdown",
   "id": "1a94e585-6c79-4c9c-af40-869841b64806",
   "metadata": {},
   "source": [
    "<b>Install the Libraries<b>"
   ]
  },
  {
   "cell_type": "markdown",
   "id": "5a3cf129-34b7-4470-99d2-a74ed695ff19",
   "metadata": {},
   "source": [
    "sumy--> ExtractiveSummarization\n",
    "\n",
    "transformer--> Abstractive Summarization"
   ]
  },
  {
   "cell_type": "code",
   "execution_count": 1,
   "id": "f14b2ecb-293e-4c9c-af85-4b4a60b7b79d",
   "metadata": {},
   "outputs": [
    {
     "name": "stdout",
     "output_type": "stream",
     "text": [
      "Requirement already satisfied: sumy in c:\\users\\lenovo\\anaconda3\\lib\\site-packages (0.11.0)\n",
      "Requirement already satisfied: transformers in c:\\users\\lenovo\\anaconda3\\lib\\site-packages (4.40.2)\n",
      "Requirement already satisfied: docopt<0.7,>=0.6.1 in c:\\users\\lenovo\\anaconda3\\lib\\site-packages (from sumy) (0.6.2)\n",
      "Requirement already satisfied: breadability>=0.1.20 in c:\\users\\lenovo\\anaconda3\\lib\\site-packages (from sumy) (0.1.20)\n",
      "Requirement already satisfied: requests>=2.7.0 in c:\\users\\lenovo\\anaconda3\\lib\\site-packages (from sumy) (2.31.0)\n",
      "Requirement already satisfied: pycountry>=18.2.23 in c:\\users\\lenovo\\anaconda3\\lib\\site-packages (from sumy) (23.12.11)\n",
      "Requirement already satisfied: nltk>=3.0.2 in c:\\users\\lenovo\\anaconda3\\lib\\site-packages (from sumy) (3.8.1)\n",
      "Requirement already satisfied: filelock in c:\\users\\lenovo\\anaconda3\\lib\\site-packages (from transformers) (3.13.1)\n",
      "Requirement already satisfied: huggingface-hub<1.0,>=0.19.3 in c:\\users\\lenovo\\anaconda3\\lib\\site-packages (from transformers) (0.23.0)\n",
      "Requirement already satisfied: numpy>=1.17 in c:\\users\\lenovo\\anaconda3\\lib\\site-packages (from transformers) (1.26.4)\n",
      "Requirement already satisfied: packaging>=20.0 in c:\\users\\lenovo\\anaconda3\\lib\\site-packages (from transformers) (23.1)\n",
      "Requirement already satisfied: pyyaml>=5.1 in c:\\users\\lenovo\\anaconda3\\lib\\site-packages (from transformers) (6.0.1)\n",
      "Requirement already satisfied: regex!=2019.12.17 in c:\\users\\lenovo\\anaconda3\\lib\\site-packages (from transformers) (2023.10.3)\n",
      "Requirement already satisfied: tokenizers<0.20,>=0.19 in c:\\users\\lenovo\\anaconda3\\lib\\site-packages (from transformers) (0.19.1)\n",
      "Requirement already satisfied: safetensors>=0.4.1 in c:\\users\\lenovo\\anaconda3\\lib\\site-packages (from transformers) (0.4.3)\n",
      "Requirement already satisfied: tqdm>=4.27 in c:\\users\\lenovo\\anaconda3\\lib\\site-packages (from transformers) (4.65.0)\n",
      "Requirement already satisfied: chardet in c:\\users\\lenovo\\anaconda3\\lib\\site-packages (from breadability>=0.1.20->sumy) (4.0.0)\n",
      "Requirement already satisfied: lxml>=2.0 in c:\\users\\lenovo\\anaconda3\\lib\\site-packages (from breadability>=0.1.20->sumy) (4.9.3)\n",
      "Requirement already satisfied: fsspec>=2023.5.0 in c:\\users\\lenovo\\anaconda3\\lib\\site-packages (from huggingface-hub<1.0,>=0.19.3->transformers) (2023.10.0)\n",
      "Requirement already satisfied: typing-extensions>=3.7.4.3 in c:\\users\\lenovo\\anaconda3\\lib\\site-packages (from huggingface-hub<1.0,>=0.19.3->transformers) (4.9.0)\n",
      "Requirement already satisfied: click in c:\\users\\lenovo\\anaconda3\\lib\\site-packages (from nltk>=3.0.2->sumy) (8.1.7)\n",
      "Requirement already satisfied: joblib in c:\\users\\lenovo\\anaconda3\\lib\\site-packages (from nltk>=3.0.2->sumy) (1.2.0)\n",
      "Requirement already satisfied: charset-normalizer<4,>=2 in c:\\users\\lenovo\\anaconda3\\lib\\site-packages (from requests>=2.7.0->sumy) (2.0.4)\n",
      "Requirement already satisfied: idna<4,>=2.5 in c:\\users\\lenovo\\anaconda3\\lib\\site-packages (from requests>=2.7.0->sumy) (3.4)\n",
      "Requirement already satisfied: urllib3<3,>=1.21.1 in c:\\users\\lenovo\\anaconda3\\lib\\site-packages (from requests>=2.7.0->sumy) (2.0.7)\n",
      "Requirement already satisfied: certifi>=2017.4.17 in c:\\users\\lenovo\\anaconda3\\lib\\site-packages (from requests>=2.7.0->sumy) (2024.2.2)\n",
      "Requirement already satisfied: colorama in c:\\users\\lenovo\\anaconda3\\lib\\site-packages (from tqdm>=4.27->transformers) (0.4.6)\n",
      "Note: you may need to restart the kernel to use updated packages.\n"
     ]
    }
   ],
   "source": [
    "pip install sumy transformers"
   ]
  },
  {
   "cell_type": "code",
   "execution_count": 2,
   "id": "504eeed0-fd84-4c32-8168-3fa7545eef4b",
   "metadata": {},
   "outputs": [],
   "source": [
    "#Import the class\n",
    "\n",
    "from sumy.summarizers.text_rank import TextRankSummarizer"
   ]
  },
  {
   "cell_type": "code",
   "execution_count": 3,
   "id": "b7a81d34-28eb-452b-8fdb-bf3be17a731b",
   "metadata": {},
   "outputs": [],
   "source": [
    "#Import parser and Tokenizers\n",
    "\n",
    "from sumy.parsers.plaintext import PlaintextParser\n",
    "\n",
    "from sumy.nlp.tokenizers import Tokenizer"
   ]
  },
  {
   "cell_type": "code",
   "execution_count": 4,
   "id": "babe34cd-a8d2-4980-b7dc-91b191cc320e",
   "metadata": {},
   "outputs": [
    {
     "name": "stderr",
     "output_type": "stream",
     "text": [
      "[nltk_data] Downloading package punkt to\n",
      "[nltk_data]     C:\\Users\\lenovo\\AppData\\Roaming\\nltk_data...\n",
      "[nltk_data]   Package punkt is already up-to-date!\n"
     ]
    },
    {
     "data": {
      "text/plain": [
       "True"
      ]
     },
     "execution_count": 4,
     "metadata": {},
     "output_type": "execute_result"
    }
   ],
   "source": [
    "import nltk\n",
    "nltk.download('punkt')"
   ]
  },
  {
   "cell_type": "code",
   "execution_count": 5,
   "id": "d558d2ce-dd43-46a9-9f76-18ffabdd09f6",
   "metadata": {},
   "outputs": [],
   "source": [
    "sent = '''The Bengal tiger is a population of the Panthera tigris tigris subspecies and the nominate tiger subspecies. It ranks among the biggest wild cats alive today. It is considered to belong to the world's charismatic megafauna. The tiger is estimated to have been present in the Indian subcontinent since the Late Pleistocene, for about 12,000 to 16,500 years. Today, it is threatened by poaching, loss and fragmentation of habitat, and was estimated at comprising fewer than 2,500 wild individuals by 2011. None of the Tiger Conservation Landscapes within its range is considered large enough to support an effective population of more than 250 adult individuals. The Bengal tiger's historical range covered the Indus River valley until the early 19th century, almost all of India, Pakistan, southern Nepal, Bangladesh, Bhutan, and southwestern China. Today, it inhabits India, Bangladesh, Nepal, Bhutan, and southwestern China. India's tiger population was estimated at 2,603–3,346 individuals by 2018. Around 300–500 individuals are estimated in Bangladesh by 2015, 355 in Nepal by 2022, and 90 individuals in Bhutan by 2015.\n",
    "Felis tigris was the scientific name used by Carl Linnaeus in 1758 for the tiger. It was subordinated to the genus Panthera by Reginald Innes Pocock in 1929. Bengal is the traditional type locality of the species and the nominate subspecies Panthera tigris tigris. The validity of several tiger subspecies in continental Asia was questioned in 1999. Morphologically, tigers from different regions vary little, and gene flow between populations in those regions is considered to have been possible during the Pleistocene. Therefore, it was proposed to recognise only two subspecies as valid, namely P. t. tigris in mainland Asia, and P. t. sondaica in the Greater Sunda Islands and possibly in Sundaland. The nominate subspecies P. t. tigris constitutes two clades: the northern clade comprises the Siberian and Caspian tiger populations, and the southern clade all remaining continental tiger populations. The extinct and living tiger populations in continental Asia have been subsumed to P. t. tigris since the revision of felid taxonomy in 2017. Results of a genetic analysis of 32 tiger samples indicate that the Bengal tiger samples grouped into a different clade than the Siberian tiger samples.\n",
    "The Bengal tiger is defined by three distinct mitochondrial nucleotide sites and 12 unique microsatellite alleles. The pattern of genetic variation in the Bengal tiger corresponds to the premise that it arrived in India approximately 12,000 years ago. This is consistent with the lack of tiger fossils from the Indian subcontinent prior to the late Pleistocene, and the absence of tigers from Sri Lanka, which was separated from the subcontinent by rising sea levels in the early Holocene.'''"
   ]
  },
  {
   "cell_type": "code",
   "execution_count": 6,
   "id": "ae490b76-b654-4898-a038-f9e121222f3a",
   "metadata": {},
   "outputs": [
    {
     "name": "stdout",
     "output_type": "stream",
     "text": [
      "The Bengal tiger is a population of the Panthera tigris tigris subspecies and the nominate tiger subspecies. It ranks among the biggest wild cats alive today. It is considered to belong to the world's charismatic megafauna. The tiger is estimated to have been present in the Indian subcontinent since the Late Pleistocene, for about 12,000 to 16,500 years. Today, it is threatened by poaching, loss and fragmentation of habitat, and was estimated at comprising fewer than 2,500 wild individuals by 2011. None of the Tiger Conservation Landscapes within its range is considered large enough to support an effective population of more than 250 adult individuals. The Bengal tiger's historical range covered the Indus River valley until the early 19th century, almost all of India, Pakistan, southern Nepal, Bangladesh, Bhutan, and southwestern China. Today, it inhabits India, Bangladesh, Nepal, Bhutan, and southwestern China. India's tiger population was estimated at 2,603–3,346 individuals by 2018. Around 300–500 individuals are estimated in Bangladesh by 2015, 355 in Nepal by 2022, and 90 individuals in Bhutan by 2015.\n",
      "Felis tigris was the scientific name used by Carl Linnaeus in 1758 for the tiger. It was subordinated to the genus Panthera by Reginald Innes Pocock in 1929. Bengal is the traditional type locality of the species and the nominate subspecies Panthera tigris tigris. The validity of several tiger subspecies in continental Asia was questioned in 1999. Morphologically, tigers from different regions vary little, and gene flow between populations in those regions is considered to have been possible during the Pleistocene. Therefore, it was proposed to recognise only two subspecies as valid, namely P. t. tigris in mainland Asia, and P. t. sondaica in the Greater Sunda Islands and possibly in Sundaland. The nominate subspecies P. t. tigris constitutes two clades: the northern clade comprises the Siberian and Caspian tiger populations, and the southern clade all remaining continental tiger populations. The extinct and living tiger populations in continental Asia have been subsumed to P. t. tigris since the revision of felid taxonomy in 2017. Results of a genetic analysis of 32 tiger samples indicate that the Bengal tiger samples grouped into a different clade than the Siberian tiger samples.\n",
      "The Bengal tiger is defined by three distinct mitochondrial nucleotide sites and 12 unique microsatellite alleles. The pattern of genetic variation in the Bengal tiger corresponds to the premise that it arrived in India approximately 12,000 years ago. This is consistent with the lack of tiger fossils from the Indian subcontinent prior to the late Pleistocene, and the absence of tigers from Sri Lanka, which was separated from the subcontinent by rising sea levels in the early Holocene.\n"
     ]
    }
   ],
   "source": [
    "print(sent)"
   ]
  },
  {
   "cell_type": "code",
   "execution_count": 7,
   "id": "8e32e4be-aa64-47a5-b44b-d3cae8ec1a68",
   "metadata": {},
   "outputs": [
    {
     "name": "stdout",
     "output_type": "stream",
     "text": [
      "22\n"
     ]
    }
   ],
   "source": [
    "from nltk.tokenize import sent_tokenize\n",
    "sents = sent_tokenize(sent)\n",
    "print(len(sents))"
   ]
  },
  {
   "cell_type": "code",
   "execution_count": 8,
   "id": "910d5306-fc9b-47fb-ada4-62e54f71c80d",
   "metadata": {},
   "outputs": [],
   "source": [
    "#Initialize the parser\n",
    "\n",
    "my_parser = PlaintextParser.from_string(sent,Tokenizer('english'))"
   ]
  },
  {
   "cell_type": "code",
   "execution_count": 9,
   "id": "26238fb1-22df-48e9-b202-c8126c6587a1",
   "metadata": {},
   "outputs": [],
   "source": [
    "# Create the object of summarizer\n",
    "\n",
    "text_rank_summarizer = TextRankSummarizer()"
   ]
  },
  {
   "cell_type": "code",
   "execution_count": 10,
   "id": "eb9ffc87-b922-4eef-94e9-c785795cef14",
   "metadata": {},
   "outputs": [],
   "source": [
    "# Extract top 3 sentences\n",
    "\n",
    "summary = text_rank_summarizer(my_parser.document, sentences_count=3)"
   ]
  },
  {
   "cell_type": "code",
   "execution_count": 11,
   "id": "c85c2917-af97-4c61-a29a-e5249b73bf34",
   "metadata": {},
   "outputs": [
    {
     "data": {
      "text/plain": [
       "3"
      ]
     },
     "execution_count": 11,
     "metadata": {},
     "output_type": "execute_result"
    }
   ],
   "source": [
    "len(summary)"
   ]
  },
  {
   "cell_type": "code",
   "execution_count": 12,
   "id": "e08ae782-7240-4aa8-bbf1-9f8c9df81cf5",
   "metadata": {},
   "outputs": [
    {
     "data": {
      "text/plain": [
       "(<Sentence: The Bengal tiger is a population of the Panthera tigris tigris subspecies and the nominate tiger subspecies.>,\n",
       " <Sentence: The nominate subspecies P. t. tigris constitutes two clades: the northern clade comprises the Siberian and Caspian tiger populations, and the southern clade all remaining continental tiger populations.>,\n",
       " <Sentence: This is consistent with the lack of tiger fossils from the Indian subcontinent prior to the late Pleistocene, and the absence of tigers from Sri Lanka, which was separated from the subcontinent by rising sea levels in the early Holocene.>)"
      ]
     },
     "execution_count": 12,
     "metadata": {},
     "output_type": "execute_result"
    }
   ],
   "source": [
    "summary"
   ]
  },
  {
   "cell_type": "code",
   "execution_count": 13,
   "id": "60131e52-7d92-43c3-a5f9-e1507f43a1ca",
   "metadata": {},
   "outputs": [
    {
     "data": {
      "text/plain": [
       "(<Sentence: The Bengal tiger is a population of the Panthera tigris tigris subspecies and the nominate tiger subspecies.>,\n",
       " <Sentence: The tiger is estimated to have been present in the Indian subcontinent since the Late Pleistocene, for about 12,000 to 16,500 years.>,\n",
       " <Sentence: The nominate subspecies P. t. tigris constitutes two clades: the northern clade comprises the Siberian and Caspian tiger populations, and the southern clade all remaining continental tiger populations.>,\n",
       " <Sentence: The pattern of genetic variation in the Bengal tiger corresponds to the premise that it arrived in India approximately 12,000 years ago.>,\n",
       " <Sentence: This is consistent with the lack of tiger fossils from the Indian subcontinent prior to the late Pleistocene, and the absence of tigers from Sri Lanka, which was separated from the subcontinent by rising sea levels in the early Holocene.>)"
      ]
     },
     "execution_count": 13,
     "metadata": {},
     "output_type": "execute_result"
    }
   ],
   "source": [
    "# Extract the top 5 sentences\n",
    "\n",
    "summary = text_rank_summarizer(my_parser.document, sentences_count=5)\n",
    "summary"
   ]
  },
  {
   "cell_type": "code",
   "execution_count": 14,
   "id": "91e06f28-87c3-4d35-b0f9-3ed6f41e62e4",
   "metadata": {},
   "outputs": [],
   "source": [
    "# Import the class\n",
    "\n",
    "from sumy.summarizers.lex_rank import LexRankSummarizer"
   ]
  },
  {
   "cell_type": "code",
   "execution_count": 15,
   "id": "740ee435-157b-4ca0-b8a4-69d5ef68dfeb",
   "metadata": {},
   "outputs": [],
   "source": [
    "#Create the object of summarizer\n",
    "\n",
    "lex_rank_summarizer = LexRankSummarizer()"
   ]
  },
  {
   "cell_type": "code",
   "execution_count": 16,
   "id": "4b1ad867-771e-49ad-8b8d-7674f636cd3f",
   "metadata": {},
   "outputs": [
    {
     "data": {
      "text/plain": [
       "(<Sentence: The Bengal tiger is a population of the Panthera tigris tigris subspecies and the nominate tiger subspecies.>,\n",
       " <Sentence: The tiger is estimated to have been present in the Indian subcontinent since the Late Pleistocene, for about 12,000 to 16,500 years.>,\n",
       " <Sentence: Around 300–500 individuals are estimated in Bangladesh by 2015, 355 in Nepal by 2022, and 90 individuals in Bhutan by 2015.>)"
      ]
     },
     "execution_count": 16,
     "metadata": {},
     "output_type": "execute_result"
    }
   ],
   "source": [
    "#Extract tht top 3 sentences\n",
    "\n",
    "summary = lex_rank_summarizer(my_parser.document, sentences_count=3)\n",
    "summary"
   ]
  },
  {
   "cell_type": "code",
   "execution_count": 17,
   "id": "52cf3dd0-8f1c-497b-b400-0694516cabec",
   "metadata": {},
   "outputs": [
    {
     "name": "stdout",
     "output_type": "stream",
     "text": [
      "The Bengal tiger is a population of the Panthera tigris tigris subspecies and the nominate tiger subspecies. \n",
      "\n",
      "The tiger is estimated to have been present in the Indian subcontinent since the Late Pleistocene, for about 12,000 to 16,500 years. \n",
      "\n",
      "Around 300–500 individuals are estimated in Bangladesh by 2015, 355 in Nepal by 2022, and 90 individuals in Bhutan by 2015. \n",
      "\n"
     ]
    }
   ],
   "source": [
    "for x in summary:\n",
    "    print(x, '\\n')"
   ]
  },
  {
   "cell_type": "code",
   "execution_count": 18,
   "id": "470aad8f-b7f7-4496-81ef-802f5551fbe3",
   "metadata": {},
   "outputs": [],
   "source": [
    "# Import the class\n",
    "\n",
    "from sumy.summarizers.lsa import LsaSummarizer"
   ]
  },
  {
   "cell_type": "markdown",
   "id": "bd8bb4cc-243b-484a-9f1d-2cf431ad0e0c",
   "metadata": {},
   "source": [
    "#Create the object of summarizer\n",
    "\n",
    "lsa_summarizer = LsaSummarizer()"
   ]
  },
  {
   "cell_type": "code",
   "execution_count": 20,
   "id": "159cd061-43ca-42d2-838e-de4f8eb6eae7",
   "metadata": {},
   "outputs": [
    {
     "name": "stdout",
     "output_type": "stream",
     "text": [
      "Today, it inhabits India, Bangladesh, Nepal, Bhutan, and southwestern China. \n",
      "\n",
      "It was subordinated to the genus Panthera by Reginald Innes Pocock in 1929. \n",
      "\n",
      "The Bengal tiger is defined by three distinct mitochondrial nucleotide sites and 12 unique microsatellite alleles. \n",
      "\n"
     ]
    }
   ],
   "source": [
    "#Extract tht top 3 sentences\n",
    "\n",
    "summary = lsa_summarizer(my_parser.document, sentences_count=3)\n",
    "for x in summary:\n",
    "    print(x, '\\n')\n"
   ]
  },
  {
   "cell_type": "markdown",
   "id": "9b21365a-e722-43bf-aa06-9206bc5c192b",
   "metadata": {},
   "source": [
    "Indian Language Summarization"
   ]
  },
  {
   "cell_type": "code",
   "execution_count": 24,
   "id": "e134c36f-cd41-4af5-8947-00fc4bdf0373",
   "metadata": {},
   "outputs": [],
   "source": [
    "text = 'മാർജാർ കുടുംബത്തിലെ ഒരു മൃഗമാണ് കടുവ , ഇന്ത്യയുടെ ദേശീയ മൃഗവുമാണ്. മാർജാർ വംശത്തിലെ ഏറ്റവും വലിയ മൃഗമായി ഇത് കണക്കാക്കപ്പെടുന്നു, കൂടാതെ ഭക്ഷണ ശൃംഖലയിലെ ഏറ്റവും ഉയർന്ന സ്ഥാനം വഹിക്കുന്നു. വ്യാഘ്ര എന്ന സംസ്‌കൃത വാക്കിൽ നിന്നാണ് വാഗ് എന്ന പേര് ഉരുത്തിരിഞ്ഞത് . കടുവയെ ഇംഗ്ലീഷിൽ ടൈഗർ എന്ന് വിളിക്കുന്നു . മറാത്തിയിൽ വലിയ കടുവയെ ധനേ വാഗ് എന്നാണ് വിളിക്കുന്നത്. ഒരു കടുവ വേട്ടയാടുന്നതിൽ പക്വത പ്രാപിക്കുന്നു. എ.ഡി. 2010 മുതൽ ജൂലൈ 29 ലോക കടുവ ദിനമായി ലോകമെമ്പാടും ആചരിക്കുന്നു . ഇന്ത്യയിൽ കടുവ ഒരു സംരക്ഷിത മൃഗമാണ്, വേട്ടയാടുന്നത് ശിക്ഷാർഹമായ കുറ്റമാണ്. കിഴക്കൻ അനറ്റോലിയ  പ്രദേശം മുതൽ പടിഞ്ഞാറ് അമുർ നദീതടം  വരെയും ഹിമാലയത്തിൻ്റെ അടിവാരം മുതൽ തെക്ക് സുലി ദ്വീപുകൾ വരെയും ബാലി വരെയും കടുവകൾ ഒരു കാലത്ത് ഉണ്ടായിരുന്നു . ഇരുപതാം നൂറ്റാണ്ടിൻ്റെ തുടക്കത്തോടെ കടുവകളുടെ എണ്ണം 93% കുറയുകയും പടിഞ്ഞാറ് , മധ്യേഷ്യ എന്നിവിടങ്ങളിൽ നിന്ന് ജാവ , ബാലി ദ്വീപുകൾ, തെക്കുകിഴക്ക് , ദക്ഷിണേഷ്യ , ചൈന എന്നിവയുടെ വലിയ ഭാഗങ്ങളിൽ നിന്ന് അപ്രത്യക്ഷമാവുകയും ചെയ്തു . ഇന്ത്യൻ ഉപഭൂഖണ്ഡത്തിലെയും സുമാത്രയിലെയും സൈബീരിയൻ മിതശീതോഷ്ണ വനങ്ങൾ മുതൽ ഉപ ഉഷ്ണമേഖലാ, ഉഷ്ണമേഖലാ വനങ്ങൾ വരെ നിലവിലെ കടുവ ഇനങ്ങളിൽ ഉൾപ്പെടുന്നു . 1986 മുതൽ, കടുവ ഐയുസിഎൻ റെഡ് ലിസ്റ്റിൽ വംശനാശഭീഷണി നേരിടുന്ന ജീവികളുടെ പട്ടികയിൽ ഉൾപ്പെടുത്തിയിട്ടുണ്ട്. 2015-ഓടെ ലോകത്ത് പ്രായപൂർത്തിയായ കടുവകളുടെ എണ്ണം 3,062 മുതൽ 3,948 വരെയാകുമെന്ന് കണക്കാക്കപ്പെടുന്നു. നിലവിൽ ഏറ്റവും കൂടുതൽ കടുവകളുള്ളത് ഇന്ത്യയിലാണ്. കടുവകളുടെ എണ്ണം കുറയാനുള്ള പ്രധാന കാരണങ്ങൾ അവയുടെ സ്വാഭാവിക ആവാസവ്യവസ്ഥയുടെ നാശവും ശിഥിലീകരണവും വേട്ടയാടലും ഉൾപ്പെടുന്നു. ചില രാജ്യങ്ങളിലെ ജനസാന്ദ്രത കൂടുതലുള്ള പ്രദേശങ്ങളിലെ കൈയേറ്റമാണ് ഇതിന് കാരണം. കടുവയുടെ യഥാർത്ഥ ഭവനമായി ഇന്ത്യ കണക്കാക്കപ്പെടുന്നു. ഇന്നും നൂറുകണക്കിന് കടുവകൾ അവശേഷിക്കുന്നു. അവിടെ നിന്ന് തെക്കുകിഴക്കൻ ഏഷ്യയിലെ മഞ്ചൂറിയ ചൈനയിൽ നിന്നാണ് കടുവ ഇന്ത്യയിലെത്തിയത് എന്ന് വിശ്വസിക്കപ്പെടുന്നു . ഈ പ്രദേശങ്ങളിൽ പലയിടത്തും കടുവകൾ ധാരാളമായി ഉണ്ടായിരുന്നെങ്കിലും വേട്ടയാടലും ആവാസവ്യവസ്ഥയുടെ നാശവും കാരണം കടുവകൾ വംശനാശം സംഭവിച്ചു. ഇന്ന്, കാട്ടു കടുവകൾ പ്രധാനമായും ഇന്ത്യ , ബർമ്മ , തായ്‌ലൻഡ് , ചൈന , റഷ്യ എന്നിവിടങ്ങളിൽ കാണപ്പെടുന്നു , മൃഗശാല കടുവകൾ ഇന്ന് ലോകമെമ്പാടും എത്തിയിരിക്കുന്നു, മാത്രമല്ല മൊത്തം കടുവകളുടെ എണ്ണത്തിൻ്റെ വലിയൊരു ഭാഗവുമാണ്. ഫെലിഡേ എന്ന പൂച്ച കുടുംബത്തിലെ ഏറ്റവും വലിയ ജീവനുള്ള അംഗമാണ് കടുവ (പന്തേര ടൈഗ്രിസ്). അത് വേട്ടയാടി തിന്നുന്നു. ഏഷ്യയിൽ, പ്രധാനമായും ഇന്ത്യ, ഭൂട്ടാൻ, ചൈന, കൊറിയ, സൈബീരിയൻ റഷ്യ എന്നിവിടങ്ങളിൽ ഇത് താമസിക്കുന്നു. 2020ൽ 70 ശതമാനം കാട്ടു കടുവകളും ഇന്ത്യയിലാണ്. 2014ൽ ഇന്ത്യയിൽ 2226 കടുവകളാണുണ്ടായിരുന്നത്. 4 വർഷത്തിന് ശേഷം 2018 ൽ ഇത് 2967 ആയി ഉയർന്നു. കടുവകളുടെ എണ്ണം ഇന്ത്യയിൽ ഏറ്റവും കൂടുതലാണെങ്കിലും ഇന്ത്യയിൽ പോലും കടുവകൾ ഇപ്പോൾ അപൂർവമാണ്, അവയുടെ എണ്ണം ഭയാനകമാണ്. ഇന്ത്യയിലെ പഞ്ചാബ് , ഹരിയാന സംസ്ഥാനങ്ങൾ ഒഴികെ എല്ലാ സംസ്ഥാനങ്ങളിലും കടുവകൾക്ക് ചെറിയ അസ്തിത്വമേ ഉള്ളൂ. ഇന്ത്യയിൽ കാണപ്പെടുന്ന കടുവകളുടെ 5 ഉപവിഭാഗങ്ങളുണ്ട്. ഹിമാലയൻ , തെരായ് ഡിവിഷൻ - ജമ്മു കശ്മീർ , ഹിമാചൽ പ്രദേശ് , ഉത്തരാഞ്ചൽ , ഉത്തർപ്രദേശ് , ബിഹാർ , സിക്കിം , അസം , അരുണാചൽ പ്രദേശ് , വടക്കുകിഴക്കൻ ഇന്ത്യ എന്നീ സംസ്ഥാനങ്ങൾ ഇതിൽ ഉൾപ്പെടുന്നു. ഹിമാലയത്തിലെ തേരായ് വനങ്ങളിലാണ് കടുവകൾ താമസിക്കുന്നത്.ആരവല്ലി പർവതനിരകളുടെ കിഴക്കൻ ഭാഗത്തെ വരണ്ട വനങ്ങളിലാണ് കടുവകൾ ഉള്ളത് . രന്തംബോർ സരിസ്ക പോലുള്ള ദേശീയ പാർക്കുകളും ഇതിൽ ഉൾപ്പെടുന്നു. സുന്ദർബൻസും ഒഡീഷയും.​ മദ്ധ്യേന്ത്യയിലെ ഇലപൊഴിയും വനങ്ങളിലാണ് കടുവകൾ കൂടുതലായി കാണപ്പെടുന്നത്. കൻഹ , ബാന്ധവ്ഗഡ് , മെൽഘട്ട് (ഗുഗ്മാൽ), തഡോബ തുടങ്ങിയ ദേശീയ ഉദ്യാനങ്ങളും സങ്കേതങ്ങളും ഇതിൽ ഉൾപ്പെടുന്നു. സഹ്യാദ്രിയും മലബാർ തീരവും പ്രധാനമായും സഹ്യാദ്രിയുടെ തെക്ക് ഭാഗമാണ്. ബന്ദിപ്പൂർ , മദുമല പെരിയാർ തുടങ്ങിയവ. മഹാരാഷ്ട്രയിലെ സഹ്യാദ്രിയിലെ കൊയ്ന , ചന്ദോളി വന്യജീവി സങ്കേതങ്ങളിൽ മാത്രമാണ് കടുവകൾ ഉള്ളത് . കടുവയുടെ ആവാസ കേന്ദ്രം പ്രധാനമായും ഇടതൂർന്നതും വളരെ ഇടതൂർന്നതുമായ വനങ്ങളാണ്. കടുവയുടെ വേട്ടയാടൽ രീതിയായതുകൊണ്ടാകാം ഇത് ആവാസവ്യവസ്ഥ തിരഞ്ഞെടുത്തത്. രാജസ്ഥാനിലെ വരണ്ട വനങ്ങൾ, കാസിരംഗയിലെ പുൽക്കാടുകൾ, സുന്ദർബനിലെ കണ്ടൽക്കാടുകൾ എന്നിങ്ങനെ വിവിധ തരം വനങ്ങളിൽ കടുവകൾ വസിക്കുന്നു. എന്നിരുന്നാലും, പുലിയെപ്പോലെ ഒരു കാട്ടിലും താമസിക്കുന്നത് കടുവയ്ക്ക് ശീലമല്ല. ഓരോ കടുവയുടെയും വേട്ടയാടൽ പ്രദേശം വളരെ വലുതാണ് (സാധാരണയായി 100 ചതുരശ്ര കിലോമീറ്റർ). അതുകൊണ്ട് കടുവകൾ പൊതുവെ വലിയ വനങ്ങളാണ് ഇഷ്ടപ്പെടുന്നത്. അതുകൊണ്ടാണ് നേരത്തെ ഇടത്തരം വനങ്ങളിൽ കടുവകളെ കണ്ടെത്തിയിരുന്നത്, ഇന്ന് വനങ്ങൾ ചെറുതും വംശനാശം സംഭവിച്ചതുമാണ് . (ഉദാ: മഹാരാഷ്ട്രയിലെ സഹ്യാദ്രി , കൊങ്കൺ വനങ്ങൾ) അടുത്തിടെ നടത്തിയ ഒരു സർവേ പ്രകാരം ഇന്ത്യയിൽ കടുവകളുടെ എണ്ണം 2,967 ആയി ഉയർന്നു. കൂടാതെ, മധ്യേന്ത്യയിൽ, തഡോബ, പെഞ്ച്, കൻഹ, മെൽഘട്ട് തുടങ്ങിയ വനമേഖലകളിൽ ഏകദേശം 718 കടുവകളുണ്ടെന്നാണ് വൈൽഡ് ലൈഫ് കൺസർവേഷൻ ട്രസ്റ്റ് ക്യാമറകൾ ഉപയോഗിച്ച് സർവേ നടത്തിയത്.'"
   ]
  },
  {
   "cell_type": "code",
   "execution_count": 25,
   "id": "45ab45aa-22bc-47a1-bcc2-21ed3ebc46e8",
   "metadata": {},
   "outputs": [
    {
     "name": "stdout",
     "output_type": "stream",
     "text": [
      "മാർജാർ കുടുംബത്തിലെ ഒരു മൃഗമാണ് കടുവ , ഇന്ത്യയുടെ ദേശീയ മൃഗവുമാണ്. മാർജാർ വംശത്തിലെ ഏറ്റവും വലിയ മൃഗമായി ഇത് കണക്കാക്കപ്പെടുന്നു, കൂടാതെ ഭക്ഷണ ശൃംഖലയിലെ ഏറ്റവും ഉയർന്ന സ്ഥാനം വഹിക്കുന്നു. വ്യാഘ്ര എന്ന സംസ്‌കൃത വാക്കിൽ നിന്നാണ് വാഗ് എന്ന പേര് ഉരുത്തിരിഞ്ഞത് . കടുവയെ ഇംഗ്ലീഷിൽ ടൈഗർ എന്ന് വിളിക്കുന്നു . മറാത്തിയിൽ വലിയ കടുവയെ ധനേ വാഗ് എന്നാണ് വിളിക്കുന്നത്. ഒരു കടുവ വേട്ടയാടുന്നതിൽ പക്വത പ്രാപിക്കുന്നു. എ.ഡി. 2010 മുതൽ ജൂലൈ 29 ലോക കടുവ ദിനമായി ലോകമെമ്പാടും ആചരിക്കുന്നു . ഇന്ത്യയിൽ കടുവ ഒരു സംരക്ഷിത മൃഗമാണ്, വേട്ടയാടുന്നത് ശിക്ഷാർഹമായ കുറ്റമാണ്. കിഴക്കൻ അനറ്റോലിയ  പ്രദേശം മുതൽ പടിഞ്ഞാറ് അമുർ നദീതടം  വരെയും ഹിമാലയത്തിൻ്റെ അടിവാരം മുതൽ തെക്ക് സുലി ദ്വീപുകൾ വരെയും ബാലി വരെയും കടുവകൾ ഒരു കാലത്ത് ഉണ്ടായിരുന്നു . ഇരുപതാം നൂറ്റാണ്ടിൻ്റെ തുടക്കത്തോടെ കടുവകളുടെ എണ്ണം 93% കുറയുകയും പടിഞ്ഞാറ് , മധ്യേഷ്യ എന്നിവിടങ്ങളിൽ നിന്ന് ജാവ , ബാലി ദ്വീപുകൾ, തെക്കുകിഴക്ക് , ദക്ഷിണേഷ്യ , ചൈന എന്നിവയുടെ വലിയ ഭാഗങ്ങളിൽ നിന്ന് അപ്രത്യക്ഷമാവുകയും ചെയ്തു . ഇന്ത്യൻ ഉപഭൂഖണ്ഡത്തിലെയും സുമാത്രയിലെയും സൈബീരിയൻ മിതശീതോഷ്ണ വനങ്ങൾ മുതൽ ഉപ ഉഷ്ണമേഖലാ, ഉഷ്ണമേഖലാ വനങ്ങൾ വരെ നിലവിലെ കടുവ ഇനങ്ങളിൽ ഉൾപ്പെടുന്നു . 1986 മുതൽ, കടുവ ഐയുസിഎൻ റെഡ് ലിസ്റ്റിൽ വംശനാശഭീഷണി നേരിടുന്ന ജീവികളുടെ പട്ടികയിൽ ഉൾപ്പെടുത്തിയിട്ടുണ്ട്. 2015-ഓടെ ലോകത്ത് പ്രായപൂർത്തിയായ കടുവകളുടെ എണ്ണം 3,062 മുതൽ 3,948 വരെയാകുമെന്ന് കണക്കാക്കപ്പെടുന്നു. നിലവിൽ ഏറ്റവും കൂടുതൽ കടുവകളുള്ളത് ഇന്ത്യയിലാണ്. കടുവകളുടെ എണ്ണം കുറയാനുള്ള പ്രധാന കാരണങ്ങൾ അവയുടെ സ്വാഭാവിക ആവാസവ്യവസ്ഥയുടെ നാശവും ശിഥിലീകരണവും വേട്ടയാടലും ഉൾപ്പെടുന്നു. ചില രാജ്യങ്ങളിലെ ജനസാന്ദ്രത കൂടുതലുള്ള പ്രദേശങ്ങളിലെ കൈയേറ്റമാണ് ഇതിന് കാരണം. കടുവയുടെ യഥാർത്ഥ ഭവനമായി ഇന്ത്യ കണക്കാക്കപ്പെടുന്നു. ഇന്നും നൂറുകണക്കിന് കടുവകൾ അവശേഷിക്കുന്നു. അവിടെ നിന്ന് തെക്കുകിഴക്കൻ ഏഷ്യയിലെ മഞ്ചൂറിയ ചൈനയിൽ നിന്നാണ് കടുവ ഇന്ത്യയിലെത്തിയത് എന്ന് വിശ്വസിക്കപ്പെടുന്നു . ഈ പ്രദേശങ്ങളിൽ പലയിടത്തും കടുവകൾ ധാരാളമായി ഉണ്ടായിരുന്നെങ്കിലും വേട്ടയാടലും ആവാസവ്യവസ്ഥയുടെ നാശവും കാരണം കടുവകൾ വംശനാശം സംഭവിച്ചു. ഇന്ന്, കാട്ടു കടുവകൾ പ്രധാനമായും ഇന്ത്യ , ബർമ്മ , തായ്‌ലൻഡ് , ചൈന , റഷ്യ എന്നിവിടങ്ങളിൽ കാണപ്പെടുന്നു , മൃഗശാല കടുവകൾ ഇന്ന് ലോകമെമ്പാടും എത്തിയിരിക്കുന്നു, മാത്രമല്ല മൊത്തം കടുവകളുടെ എണ്ണത്തിൻ്റെ വലിയൊരു ഭാഗവുമാണ്. ഫെലിഡേ എന്ന പൂച്ച കുടുംബത്തിലെ ഏറ്റവും വലിയ ജീവനുള്ള അംഗമാണ് കടുവ (പന്തേര ടൈഗ്രിസ്). അത് വേട്ടയാടി തിന്നുന്നു. ഏഷ്യയിൽ, പ്രധാനമായും ഇന്ത്യ, ഭൂട്ടാൻ, ചൈന, കൊറിയ, സൈബീരിയൻ റഷ്യ എന്നിവിടങ്ങളിൽ ഇത് താമസിക്കുന്നു. 2020ൽ 70 ശതമാനം കാട്ടു കടുവകളും ഇന്ത്യയിലാണ്. 2014ൽ ഇന്ത്യയിൽ 2226 കടുവകളാണുണ്ടായിരുന്നത്. 4 വർഷത്തിന് ശേഷം 2018 ൽ ഇത് 2967 ആയി ഉയർന്നു. കടുവകളുടെ എണ്ണം ഇന്ത്യയിൽ ഏറ്റവും കൂടുതലാണെങ്കിലും ഇന്ത്യയിൽ പോലും കടുവകൾ ഇപ്പോൾ അപൂർവമാണ്, അവയുടെ എണ്ണം ഭയാനകമാണ്. ഇന്ത്യയിലെ പഞ്ചാബ് , ഹരിയാന സംസ്ഥാനങ്ങൾ ഒഴികെ എല്ലാ സംസ്ഥാനങ്ങളിലും കടുവകൾക്ക് ചെറിയ അസ്തിത്വമേ ഉള്ളൂ. ഇന്ത്യയിൽ കാണപ്പെടുന്ന കടുവകളുടെ 5 ഉപവിഭാഗങ്ങളുണ്ട്. ഹിമാലയൻ , തെരായ് ഡിവിഷൻ - ജമ്മു കശ്മീർ , ഹിമാചൽ പ്രദേശ് , ഉത്തരാഞ്ചൽ , ഉത്തർപ്രദേശ് , ബിഹാർ , സിക്കിം , അസം , അരുണാചൽ പ്രദേശ് , വടക്കുകിഴക്കൻ ഇന്ത്യ എന്നീ സംസ്ഥാനങ്ങൾ ഇതിൽ ഉൾപ്പെടുന്നു. ഹിമാലയത്തിലെ തേരായ് വനങ്ങളിലാണ് കടുവകൾ താമസിക്കുന്നത്.ആരവല്ലി പർവതനിരകളുടെ കിഴക്കൻ ഭാഗത്തെ വരണ്ട വനങ്ങളിലാണ് കടുവകൾ ഉള്ളത് . രന്തംബോർ സരിസ്ക പോലുള്ള ദേശീയ പാർക്കുകളും ഇതിൽ ഉൾപ്പെടുന്നു. സുന്ദർബൻസും ഒഡീഷയും.​ മദ്ധ്യേന്ത്യയിലെ ഇലപൊഴിയും വനങ്ങളിലാണ് കടുവകൾ കൂടുതലായി കാണപ്പെടുന്നത്. കൻഹ , ബാന്ധവ്ഗഡ് , മെൽഘട്ട് (ഗുഗ്മാൽ), തഡോബ തുടങ്ങിയ ദേശീയ ഉദ്യാനങ്ങളും സങ്കേതങ്ങളും ഇതിൽ ഉൾപ്പെടുന്നു. സഹ്യാദ്രിയും മലബാർ തീരവും പ്രധാനമായും സഹ്യാദ്രിയുടെ തെക്ക് ഭാഗമാണ്. ബന്ദിപ്പൂർ , മദുമല പെരിയാർ തുടങ്ങിയവ. മഹാരാഷ്ട്രയിലെ സഹ്യാദ്രിയിലെ കൊയ്ന , ചന്ദോളി വന്യജീവി സങ്കേതങ്ങളിൽ മാത്രമാണ് കടുവകൾ ഉള്ളത് . കടുവയുടെ ആവാസ കേന്ദ്രം പ്രധാനമായും ഇടതൂർന്നതും വളരെ ഇടതൂർന്നതുമായ വനങ്ങളാണ്. കടുവയുടെ വേട്ടയാടൽ രീതിയായതുകൊണ്ടാകാം ഇത് ആവാസവ്യവസ്ഥ തിരഞ്ഞെടുത്തത്. രാജസ്ഥാനിലെ വരണ്ട വനങ്ങൾ, കാസിരംഗയിലെ പുൽക്കാടുകൾ, സുന്ദർബനിലെ കണ്ടൽക്കാടുകൾ എന്നിങ്ങനെ വിവിധ തരം വനങ്ങളിൽ കടുവകൾ വസിക്കുന്നു. എന്നിരുന്നാലും, പുലിയെപ്പോലെ ഒരു കാട്ടിലും താമസിക്കുന്നത് കടുവയ്ക്ക് ശീലമല്ല. ഓരോ കടുവയുടെയും വേട്ടയാടൽ പ്രദേശം വളരെ വലുതാണ് (സാധാരണയായി 100 ചതുരശ്ര കിലോമീറ്റർ). അതുകൊണ്ട് കടുവകൾ പൊതുവെ വലിയ വനങ്ങളാണ് ഇഷ്ടപ്പെടുന്നത്. അതുകൊണ്ടാണ് നേരത്തെ ഇടത്തരം വനങ്ങളിൽ കടുവകളെ കണ്ടെത്തിയിരുന്നത്, ഇന്ന് വനങ്ങൾ ചെറുതും വംശനാശം സംഭവിച്ചതുമാണ് . (ഉദാ: മഹാരാഷ്ട്രയിലെ സഹ്യാദ്രി , കൊങ്കൺ വനങ്ങൾ) അടുത്തിടെ നടത്തിയ ഒരു സർവേ പ്രകാരം ഇന്ത്യയിൽ കടുവകളുടെ എണ്ണം 2,967 ആയി ഉയർന്നു. കൂടാതെ, മധ്യേന്ത്യയിൽ, തഡോബ, പെഞ്ച്, കൻഹ, മെൽഘട്ട് തുടങ്ങിയ വനമേഖലകളിൽ ഏകദേശം 718 കടുവകളുണ്ടെന്നാണ് വൈൽഡ് ലൈഫ് കൺസർവേഷൻ ട്രസ്റ്റ് ക്യാമറകൾ ഉപയോഗിച്ച് സർവേ നടത്തിയത്.\n"
     ]
    }
   ],
   "source": [
    "print(text)"
   ]
  },
  {
   "cell_type": "code",
   "execution_count": 26,
   "id": "baaf0c73-22de-4d4e-a07a-7b4f202f69ff",
   "metadata": {},
   "outputs": [],
   "source": [
    "#import the class\n",
    "\n",
    "from sumy.summarizers.text_rank import TextRankSummarizer"
   ]
  },
  {
   "cell_type": "code",
   "execution_count": 27,
   "id": "cff0d783-1ca2-49bc-ab2a-dd263ee8dc34",
   "metadata": {},
   "outputs": [],
   "source": [
    "#Import parser and tokenizers\n",
    "\n",
    "from sumy.parsers.plaintext import PlaintextParser\n",
    "from sumy.nlp.tokenizers import Tokenizer"
   ]
  },
  {
   "cell_type": "code",
   "execution_count": 29,
   "id": "51fd0ba9-c9d5-4efe-9e72-62ac5511d27f",
   "metadata": {},
   "outputs": [],
   "source": [
    "#Initialize the parser\n",
    "\n",
    "my_parser = PlaintextParser.from_string(text, Tokenizer('english'))"
   ]
  },
  {
   "cell_type": "code",
   "execution_count": 30,
   "id": "e2908c63-bac3-40dd-a8ef-a3b0f4b82056",
   "metadata": {},
   "outputs": [],
   "source": [
    "#Create the object of summarizer\n",
    "\n",
    "text_rank_summarizer = TextRankSummarizer()"
   ]
  },
  {
   "cell_type": "code",
   "execution_count": 31,
   "id": "eb9a505b-02a9-4b46-abe1-26a4ba4bf759",
   "metadata": {},
   "outputs": [
    {
     "data": {
      "text/plain": [
       "(<Sentence: ഇന്ത്യൻ ഉപഭൂഖണ്ഡത്തിലെയും സുമാത്രയിലെയും സൈബീരിയൻ മിതശീതോഷ്ണ വനങ്ങൾ മുതൽ ഉപ ഉഷ്ണമേഖലാ, ഉഷ്ണമേഖലാ വനങ്ങൾ വരെ നിലവിലെ കടുവ ഇനങ്ങളിൽ ഉൾപ്പെടുന്നു .>,\n",
       " <Sentence: കൻഹ , ബാന്ധവ്ഗഡ് , മെൽഘട്ട് (ഗുഗ്മാൽ), തഡോബ തുടങ്ങിയ ദേശീയ ഉദ്യാനങ്ങളും സങ്കേതങ്ങളും ഇതിൽ ഉൾപ്പെടുന്നു.>,\n",
       " <Sentence: കൂടാതെ, മധ്യേന്ത്യയിൽ, തഡോബ, പെഞ്ച്, കൻഹ, മെൽഘട്ട് തുടങ്ങിയ വനമേഖലകളിൽ ഏകദേശം 718 കടുവകളുണ്ടെന്നാണ് വൈൽഡ് ലൈഫ് കൺസർവേഷൻ ട്രസ്റ്റ് ക്യാമറകൾ ഉപയോഗിച്ച് സർവേ നടത്തിയത്.>)"
      ]
     },
     "execution_count": 31,
     "metadata": {},
     "output_type": "execute_result"
    }
   ],
   "source": [
    "#Extract top 3 sentences\n",
    "\n",
    "summary = text_rank_summarizer(my_parser.document, sentences_count=3)\n",
    "summary"
   ]
  },
  {
   "cell_type": "code",
   "execution_count": 43,
   "id": "0d7d7eb4-0073-414f-b192-791009ed18cc",
   "metadata": {},
   "outputs": [
    {
     "name": "stdout",
     "output_type": "stream",
     "text": [
      "48\n"
     ]
    }
   ],
   "source": [
    "from nltk.tokenize import sent_tokenize\n",
    "texts = sent_tokenize(text)\n",
    "print(len(texts))"
   ]
  },
  {
   "cell_type": "code",
   "execution_count": 45,
   "id": "61be259f-0829-44f9-ab04-15e90c51dc28",
   "metadata": {},
   "outputs": [
    {
     "data": {
      "text/plain": [
       "(<Sentence: ഇന്ത്യൻ ഉപഭൂഖണ്ഡത്തിലെയും സുമാത്രയിലെയും സൈബീരിയൻ മിതശീതോഷ്ണ വനങ്ങൾ മുതൽ ഉപ ഉഷ്ണമേഖലാ, ഉഷ്ണമേഖലാ വനങ്ങൾ വരെ നിലവിലെ കടുവ ഇനങ്ങളിൽ ഉൾപ്പെടുന്നു .>,\n",
       " <Sentence: കൻഹ , ബാന്ധവ്ഗഡ് , മെൽഘട്ട് (ഗുഗ്മാൽ), തഡോബ തുടങ്ങിയ ദേശീയ ഉദ്യാനങ്ങളും സങ്കേതങ്ങളും ഇതിൽ ഉൾപ്പെടുന്നു.>,\n",
       " <Sentence: കൂടാതെ, മധ്യേന്ത്യയിൽ, തഡോബ, പെഞ്ച്, കൻഹ, മെൽഘട്ട് തുടങ്ങിയ വനമേഖലകളിൽ ഏകദേശം 718 കടുവകളുണ്ടെന്നാണ് വൈൽഡ് ലൈഫ് കൺസർവേഷൻ ട്രസ്റ്റ് ക്യാമറകൾ ഉപയോഗിച്ച് സർവേ നടത്തിയത്.>)"
      ]
     },
     "execution_count": 45,
     "metadata": {},
     "output_type": "execute_result"
    }
   ],
   "source": [
    "#Initialize the parser\n",
    "\n",
    "my_parser = PlaintextParser.from_string(text,Tokenizer('english'))\n",
    "\n",
    "# Create the object of summarizer\n",
    "\n",
    "text_rank_summarizer = TextRankSummarizer()\n",
    "\n",
    "# Extract top 3 sentences\n",
    "\n",
    "summary = text_rank_summarizer(my_parser.document, sentences_count=3)\n",
    "summary"
   ]
  },
  {
   "cell_type": "code",
   "execution_count": 46,
   "id": "d7fea984-6453-42ce-aeb3-14f1ad8cc764",
   "metadata": {},
   "outputs": [
    {
     "data": {
      "text/plain": [
       "(<Sentence: ഇന്ത്യൻ ഉപഭൂഖണ്ഡത്തിലെയും സുമാത്രയിലെയും സൈബീരിയൻ മിതശീതോഷ്ണ വനങ്ങൾ മുതൽ ഉപ ഉഷ്ണമേഖലാ, ഉഷ്ണമേഖലാ വനങ്ങൾ വരെ നിലവിലെ കടുവ ഇനങ്ങളിൽ ഉൾപ്പെടുന്നു .>,\n",
       " <Sentence: ഈ പ്രദേശങ്ങളിൽ പലയിടത്തും കടുവകൾ ധാരാളമായി ഉണ്ടായിരുന്നെങ്കിലും വേട്ടയാടലും ആവാസവ്യവസ്ഥയുടെ നാശവും കാരണം കടുവകൾ വംശനാശം സംഭവിച്ചു.>,\n",
       " <Sentence: 4 വർഷത്തിന് ശേഷം 2018 ൽ ഇത് 2967 ആയി ഉയർന്നു.>,\n",
       " <Sentence: കൻഹ , ബാന്ധവ്ഗഡ് , മെൽഘട്ട് (ഗുഗ്മാൽ), തഡോബ തുടങ്ങിയ ദേശീയ ഉദ്യാനങ്ങളും സങ്കേതങ്ങളും ഇതിൽ ഉൾപ്പെടുന്നു.>,\n",
       " <Sentence: കൂടാതെ, മധ്യേന്ത്യയിൽ, തഡോബ, പെഞ്ച്, കൻഹ, മെൽഘട്ട് തുടങ്ങിയ വനമേഖലകളിൽ ഏകദേശം 718 കടുവകളുണ്ടെന്നാണ് വൈൽഡ് ലൈഫ് കൺസർവേഷൻ ട്രസ്റ്റ് ക്യാമറകൾ ഉപയോഗിച്ച് സർവേ നടത്തിയത്.>)"
      ]
     },
     "execution_count": 46,
     "metadata": {},
     "output_type": "execute_result"
    }
   ],
   "source": [
    "# Extract the top 5 sentences\n",
    "\n",
    "summary = text_rank_summarizer(my_parser.document, sentences_count=5)\n",
    "summary"
   ]
  },
  {
   "cell_type": "code",
   "execution_count": 47,
   "id": "64ba8445-8864-4bb9-b6eb-fcdf5dd39b1b",
   "metadata": {},
   "outputs": [
    {
     "data": {
      "text/plain": [
       "(<Sentence: ഇന്ത്യൻ ഉപഭൂഖണ്ഡത്തിലെയും സുമാത്രയിലെയും സൈബീരിയൻ മിതശീതോഷ്ണ വനങ്ങൾ മുതൽ ഉപ ഉഷ്ണമേഖലാ, ഉഷ്ണമേഖലാ വനങ്ങൾ വരെ നിലവിലെ കടുവ ഇനങ്ങളിൽ ഉൾപ്പെടുന്നു .>,\n",
       " <Sentence: ഈ പ്രദേശങ്ങളിൽ പലയിടത്തും കടുവകൾ ധാരാളമായി ഉണ്ടായിരുന്നെങ്കിലും വേട്ടയാടലും ആവാസവ്യവസ്ഥയുടെ നാശവും കാരണം കടുവകൾ വംശനാശം സംഭവിച്ചു.>,\n",
       " <Sentence: 4 വർഷത്തിന് ശേഷം 2018 ൽ ഇത് 2967 ആയി ഉയർന്നു.>)"
      ]
     },
     "execution_count": 47,
     "metadata": {},
     "output_type": "execute_result"
    }
   ],
   "source": [
    "# Import the class\n",
    "\n",
    "from sumy.summarizers.lex_rank import LexRankSummarizer\n",
    "\n",
    "#Create the object of summarizer\n",
    "\n",
    "lex_rank_summarizer = LexRankSummarizer()\n",
    "\n",
    "#Extract tht top 3 sentences\n",
    "\n",
    "summary = lex_rank_summarizer(my_parser.document, sentences_count=3)\n",
    "summary"
   ]
  },
  {
   "cell_type": "code",
   "execution_count": 48,
   "id": "2a4098a5-1cf1-4aa0-adb3-9b5b6380cf1e",
   "metadata": {},
   "outputs": [
    {
     "name": "stdout",
     "output_type": "stream",
     "text": [
      "ഇന്ത്യൻ ഉപഭൂഖണ്ഡത്തിലെയും സുമാത്രയിലെയും സൈബീരിയൻ മിതശീതോഷ്ണ വനങ്ങൾ മുതൽ ഉപ ഉഷ്ണമേഖലാ, ഉഷ്ണമേഖലാ വനങ്ങൾ വരെ നിലവിലെ കടുവ ഇനങ്ങളിൽ ഉൾപ്പെടുന്നു . \n",
      "\n",
      "ഈ പ്രദേശങ്ങളിൽ പലയിടത്തും കടുവകൾ ധാരാളമായി ഉണ്ടായിരുന്നെങ്കിലും വേട്ടയാടലും ആവാസവ്യവസ്ഥയുടെ നാശവും കാരണം കടുവകൾ വംശനാശം സംഭവിച്ചു. \n",
      "\n",
      "4 വർഷത്തിന് ശേഷം 2018 ൽ ഇത് 2967 ആയി ഉയർന്നു. \n",
      "\n"
     ]
    }
   ],
   "source": [
    "for x in summary:\n",
    "    print(x, '\\n')"
   ]
  },
  {
   "cell_type": "code",
   "execution_count": 50,
   "id": "d8e998b2-21f2-4987-9745-a772490746f4",
   "metadata": {},
   "outputs": [
    {
     "name": "stdout",
     "output_type": "stream",
     "text": [
      "ഇന്ത്യൻ ഉപഭൂഖണ്ഡത്തിലെയും സുമാത്രയിലെയും സൈബീരിയൻ മിതശീതോഷ്ണ വനങ്ങൾ മുതൽ ഉപ ഉഷ്ണമേഖലാ, ഉഷ്ണമേഖലാ വനങ്ങൾ വരെ നിലവിലെ കടുവ ഇനങ്ങളിൽ ഉൾപ്പെടുന്നു . \n",
      "\n",
      "ഈ പ്രദേശങ്ങളിൽ പലയിടത്തും കടുവകൾ ധാരാളമായി ഉണ്ടായിരുന്നെങ്കിലും വേട്ടയാടലും ആവാസവ്യവസ്ഥയുടെ നാശവും കാരണം കടുവകൾ വംശനാശം സംഭവിച്ചു. \n",
      "\n",
      "4 വർഷത്തിന് ശേഷം 2018 ൽ ഇത് 2967 ആയി ഉയർന്നു. \n",
      "\n"
     ]
    }
   ],
   "source": [
    "# Import the class\n",
    "\n",
    "from sumy.summarizers.lsa import LsaSummarizer\n",
    "\n",
    "#Create the object of summarizer\n",
    "\n",
    "lsa_summarizer = LsaSummarizer()\n",
    "\n",
    "#Extract tht top 3 sentences\n",
    "\n",
    "summary = lsa_summarizer(my_parser.document, sentences_count=3)\n",
    "for x in summary:\n",
    "    print(x, '\\n')"
   ]
  },
  {
   "cell_type": "code",
   "execution_count": null,
   "id": "57ad84c1-a431-4a42-a20a-e706f5c85aa1",
   "metadata": {},
   "outputs": [],
   "source": []
  }
 ],
 "metadata": {
  "kernelspec": {
   "display_name": "Python 3 (ipykernel)",
   "language": "python",
   "name": "python3"
  },
  "language_info": {
   "codemirror_mode": {
    "name": "ipython",
    "version": 3
   },
   "file_extension": ".py",
   "mimetype": "text/x-python",
   "name": "python",
   "nbconvert_exporter": "python",
   "pygments_lexer": "ipython3",
   "version": "3.11.7"
  }
 },
 "nbformat": 4,
 "nbformat_minor": 5
}
